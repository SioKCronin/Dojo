{
 "cells": [
  {
   "cell_type": "markdown",
   "metadata": {},
   "source": [
    "# CodeKata"
   ]
  },
  {
   "cell_type": "markdown",
   "metadata": {},
   "source": [
    "## Kata01: Supermarket Pricing"
   ]
  },
  {
   "cell_type": "markdown",
   "metadata": {},
   "source": [
    "http://codekata.com/kata/kata01-supermarket-pricing/\n",
    "\n",
    "Some things in supermarkets have simple prices: this can of beans costs $0.65. Other things have more complex prices. For example:\n",
    "\n",
    "* three for a dollar (so what’s the price if I buy 4, or 5?)\n",
    "* $1.99/pound (so what does 4 ounces cost?)\n",
    "* buy two, get one free (so does the third item have a price?)\n",
    "\n",
    "The exercise is to experiment with various models for representing money and prices that are flexible enough to deal with these (and other) pricing schemes, and at the same time are generally usable (at the checkout, for stock management, order entry, and so on). \n",
    "\n",
    "Spend time considering issues such as:\n",
    "\n",
    "* does fractional money exist?\n",
    "* when (if ever) does rounding take place?\n",
    "* how do you keep an audit trail of pricing decisions (and do you need to)?\n",
    "* are costs and prices the same class of thing?\n",
    "* if a shelf of 100 cans is priced using “buy two, get one free”, how do you value the stock?\n"
   ]
  },
  {
   "cell_type": "markdown",
   "metadata": {},
   "source": [
    "## Models"
   ]
  },
  {
   "cell_type": "markdown",
   "metadata": {},
   "source": [
    "Three kinds of cost\n",
    "* real (what we pay for the merchandise)\n",
    "* display (how we market the cost) \n",
    "* sale (what we calculate at POS) \n",
    "\n",
    "For each item in the store, we associate a real, display, and sale value. \n"
   ]
  },
  {
   "cell_type": "markdown",
   "metadata": {},
   "source": [
    "## Test Cases\n",
    "\n",
    "### Buy two, get one free\n",
    "\n",
    "If you buy two, then three items cost \n"
   ]
  },
  {
   "cell_type": "code",
   "execution_count": null,
   "metadata": {
    "collapsed": true
   },
   "outputs": [],
   "source": []
  }
 ],
 "metadata": {
  "anaconda-cloud": {},
  "kernelspec": {
   "display_name": "Python [conda root]",
   "language": "python",
   "name": "conda-root-py"
  },
  "language_info": {
   "codemirror_mode": {
    "name": "ipython",
    "version": 2
   },
   "file_extension": ".py",
   "mimetype": "text/x-python",
   "name": "python",
   "nbconvert_exporter": "python",
   "pygments_lexer": "ipython2",
   "version": "2.7.12"
  }
 },
 "nbformat": 4,
 "nbformat_minor": 1
}
