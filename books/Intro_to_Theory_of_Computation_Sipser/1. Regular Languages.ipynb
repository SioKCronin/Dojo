{
 "cells": [
  {
   "cell_type": "markdown",
   "metadata": {},
   "source": [
    "# Chapter 1: Regular Languages"
   ]
  },
  {
   "cell_type": "markdown",
   "metadata": {},
   "source": [
    "## Topics"
   ]
  },
  {
   "cell_type": "markdown",
   "metadata": {},
   "source": [
    "* Finite automata\n",
    "* Nondeterminism (NFAs vs. DFA) \n",
    "* Regular expressions\n",
    "* Nonregular languages"
   ]
  },
  {
   "cell_type": "markdown",
   "metadata": {},
   "source": [
    "## Exercises"
   ]
  },
  {
   "cell_type": "markdown",
   "metadata": {},
   "source": [
    "### 1.1\n",
    "* M1 start state: q1\n",
    "* M1 accept states: {q2}\n",
    "* M1 sequence for 'aabb': q1, q2, q3, q1, q1\n",
    "* M1 accept?: reject\n",
    "* M1 accept $\\varepsilon$?: reject\n",
    "-----------\n",
    "* M2 start state: q1\n",
    "* M2 accept states: {q1, q4}\n",
    "* M2 sequence for 'aabb': q1, q1, q1, q2, q4\n",
    "* M2 accept?: accept\n",
    "* M2 accept $\\varepsilon$?: accept"
   ]
  },
  {
   "cell_type": "markdown",
   "metadata": {},
   "source": [
    "### 1.2 "
   ]
  },
  {
   "cell_type": "markdown",
   "metadata": {},
   "source": [
    "**Formal defintion of M1**\n",
    "\n",
    "\n",
    "**Formal defintion of M2**"
   ]
  },
  {
   "cell_type": "code",
   "execution_count": null,
   "metadata": {
    "collapsed": true
   },
   "outputs": [],
   "source": []
  }
 ],
 "metadata": {
  "kernelspec": {
   "display_name": "Python 3",
   "language": "python",
   "name": "python3"
  },
  "language_info": {
   "codemirror_mode": {
    "name": "ipython",
    "version": 3
   },
   "file_extension": ".py",
   "mimetype": "text/x-python",
   "name": "python",
   "nbconvert_exporter": "python",
   "pygments_lexer": "ipython3",
   "version": "3.5.2"
  }
 },
 "nbformat": 4,
 "nbformat_minor": 2
}
