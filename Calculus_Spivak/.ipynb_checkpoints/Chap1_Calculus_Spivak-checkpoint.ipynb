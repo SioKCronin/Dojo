{
 "cells": [
  {
   "cell_type": "markdown",
   "metadata": {},
   "source": [
    "# Prologue"
   ]
  },
  {
   "cell_type": "markdown",
   "metadata": {},
   "source": [
    "## CHAPTER 1: Basic Properties and Numbers "
   ]
  },
  {
   "cell_type": "markdown",
   "metadata": {},
   "source": [
    "### Problems"
   ]
  },
  {
   "cell_type": "markdown",
   "metadata": {},
   "source": [
    "#### 1. Prove the following:\n",
    "\n",
    "  (i) If $ax = a$ for some number $a \\neq 0$, then $x = 1$\n",
    "  \n",
    "  * $a * x = a$\n",
    "  \n",
    "  * $a * [a^-1] * x = a * [a^-1]$ *(existence of multiplicative inverse)*\n",
    "  \n",
    "  * $1 * x = 1$\n",
    "  \n",
    "  * $x = 1$\n",
    "    \n",
    "    \n",
    "   (ii) $x^2 - y^2 = (x - y)(x + y)$\n",
    "   \n",
    "   = $(x - y)(x + y)$\n",
    "   \n",
    "   = $x * (x + y) + (-y) * (x + y)$\n",
    "   \n",
    "   = $x^2 + xy + (-xy) + (-y^2)$\n",
    "   \n",
    "   = $x^2 - y^2$\n",
    "   \n",
    "    \n",
    "   (iii) If $x^2 = y^2$, then $x = y$ or $x = -y$\n",
    "   \n",
    "   * $x^2 = y^2$\n",
    "   \n",
    "   * $\\sqrt x^2 = \\sqrt y^2$\n",
    "   \n",
    "   * $x = y$ or $ x = -y$\n",
    "   \n",
    "\n",
    "   (iv) $x^3 - y^3 = (x - y)(x^2 + xy + y^2)$\n",
    "\n",
    "= $(x - y)(x^2 + xy + y^2)$\n",
    "\n",
    "= $(x^3 + x^2y + xy^2) + (-x^2y) + (-xy^2) + (-y^3)$\n",
    "\n",
    "= $x^3 - y^3$\n",
    "\n",
    "\n",
    "  (v) $x^n - y^n = (x - y)(x^n-1 + x^n-2 + \\ldots + xy^n-2 + y^n-1)$\n",
    "  \n",
    "  (vi) $x^3 + y^3 = (x + y)(x^2 - xy + y^2)$\n"
   ]
  },
  {
   "cell_type": "markdown",
   "metadata": {},
   "source": [
    "#### 2. What is wrong with the following \"proof\"?\n",
    "\n",
    "In step 3 we factored out `y` correctly on the right side of the equation, but performed a different factorization on the left side"
   ]
  },
  {
   "cell_type": "markdown",
   "metadata": {},
   "source": [
    "#### 3. Prove the following: \n",
    "\n",
    "(i) $\\frac{a}{b} = \\frac{ac}{bc}$, if $b, c \\neq 0$\n",
    "\n",
    "= $\\frac{ac}{bc}$\n",
    "\n",
    "= $\\frac{a}{b} * \\frac{c}{c}$\n",
    "\n",
    "(ii) $\\frac{a}{b} + \\frac{c}{d} = \\frac{ad + bc}{bd}$, if $b, d \\neq 0$ \n",
    "\n",
    "= $\\frac{a}{b} + \\frac{c}{d}$\n",
    "\n",
    "= $\\frac{a}{b} * \\frac{d}{d} + \\frac{c}{d} * \\frac{b}{b}$\n",
    "\n",
    "= $\\frac{ad}{bd} + \\frac{bc}{bd}$\n",
    "\n",
    "= $\\frac{ad + bc}{bd}$\n",
    "\n",
    "(iii) $(ab)^-1 = a^-1 * b^-1$, if $a, b \\neq 0$\n",
    "\n",
    "= $a^-1 * b^-1$\n",
    "\n",
    "= $\\frac{1}{a} * \\frac{1}{b}$ = $\\frac{1}{ab}$ = $(ab)^-1$\n",
    "\n",
    "(iv) $\\frac{a}{b} * \\frac{c}{d} = \\frac{ac}{db}$, if $b, d \\neq 0$ \n",
    "\n",
    "= $\\frac{ac}{db}$ = $\\frac{ac}{bd}$ = $\\frac{ca}{bd}$ = $\\frac{ca}{db}$ \n",
    "\n",
    "(v) $\\frac{a}{b} \\div \\frac{c}{d} = \\frac{ad}{bc}$, if $b, c, d \\neq 0$ \n",
    "\n",
    "$\\frac{a}{b} \\div \\frac{c}{d}$ = $\\frac{a}{b} * \\frac{d}{c} \\div \\frac{c}{d} * \\frac{d}{c}$ = $\\frac{a}{b} * \\frac{d}{c} \\div 1$ = $\\frac{ad}{bc}$\n",
    "\n",
    "(vi) If $b, d \\neq 0$, then $\\frac{a}{b} = \\frac{c}{d}$, iff $ad = bc$\n",
    "\n",
    "$\\frac{a}{b} = \\frac{b}{a}$ \n",
    "\n",
    "$a^2 = b^2$ \n",
    "\n",
    "$\\sqrt a^2 = \\sqrt b^2$ \n",
    "\n",
    "$a = b$"
   ]
  },
  {
   "cell_type": "markdown",
   "metadata": {
    "collapsed": true
   },
   "source": [
    "#### 4. Find all numbers `x` for which:"
   ]
  },
  {
   "cell_type": "markdown",
   "metadata": {
    "collapsed": true
   },
   "source": [
    "(i) $4 - x \\lt 3 - 2x$\n",
    "\n",
    "* $4 - x [+ x] \\lt 3 - 2x [+ x]$\n",
    "* $4 [- 3]\\lt 3 [- 3] - x$\n",
    "* $1 \\lt -x$\n",
    "* $-1 \\gt x$\n",
    "\n",
    "(ii) $5 - x^2 \\lt 8$\n",
    "\n",
    "* $5 - x^2 [+ x^2] \\lt 8 [+ x^2]$\n",
    "* $5 [- 8]\\lt 8 [- 8] + x^2]$\n",
    "* $-3 \\lt x^2$\n",
    "* \" Any number times itself is a positive number (or zero), so you can't ever get to a negative number by squaring\"\n",
    "\n",
    "(iii) $5 - x^2 \\lt -2$\n",
    "\n",
    "* $5 - x^2 [+ x^2] \\lt -2 [+ x^2]$\n",
    "* $5 [+ 2]\\lt -2 [+ 2] + x^2]$\n",
    "* $7 \\lt x^2$\n",
    "* $x \\gt \\sqrt 7$\n",
    "\n",
    "(iv) (x - 1)(x - 3) > 0\n",
    "\n",
    "* x > 3\n",
    "\n",
    "(v) $x^\n",
    "\n",
    "\n",
    "\n",
    "\n",
    "\n"
   ]
  }
 ],
 "metadata": {
  "anaconda-cloud": {},
  "kernelspec": {
   "display_name": "Python [conda root]",
   "language": "python",
   "name": "conda-root-py"
  },
  "language_info": {
   "codemirror_mode": {
    "name": "ipython",
    "version": 2
   },
   "file_extension": ".py",
   "mimetype": "text/x-python",
   "name": "python",
   "nbconvert_exporter": "python",
   "pygments_lexer": "ipython2",
   "version": "2.7.12"
  }
 },
 "nbformat": 4,
 "nbformat_minor": 1
}
