{
 "cells": [
  {
   "cell_type": "markdown",
   "metadata": {},
   "source": [
    "# CHAPTER 1: Basic Properties and Numbers \n",
    "\n"
   ]
  },
  {
   "cell_type": "markdown",
   "metadata": {},
   "source": [
    "### Problems"
   ]
  },
  {
   "cell_type": "markdown",
   "metadata": {},
   "source": [
    "#### 1. Prove the following:\n",
    "\n",
    "  (i) If $ax = a$ for some number $a \\neq 0$, then $x = 1$\n",
    "  \n",
    "  * $a * x = a$\n",
    "  \n",
    "  * $a * [a^-1] * x = a * [a^-1]$ *(existence of multiplicative inverse)*\n",
    "  \n",
    "  * $1 * x = 1$\n",
    "  \n",
    "  * $x = 1$\n",
    "    \n",
    "    \n",
    "   (ii) $x^2 - y^2 = (x - y)(x + y)$\n",
    "   \n",
    "   * $(x - y)(x + y)$\n",
    "   \n",
    "   * $x * (x + y) + (-y) * (x + y)$\n",
    "   \n",
    "   * $x^2 + xy + (-xy) + (-y^2)$\n",
    "   \n",
    "   * $x^2 - y^2$\n",
    "   \n",
    "    \n",
    "   (iii) If $x^2 = y^2$, then $x = y$ or $x = -y$\n",
    "   \n",
    "   * $x^2 = y^2$\n",
    "   \n",
    "   * $\\sqrt x^2 = \\sqrt y^2$\n",
    "   \n",
    "   * $x = y$ or $ x = -y$\n",
    "   \n",
    "\n",
    "   (iv) $x^3 - y^3 = (x - y)(x^2 + xy + y^2)$\n",
    "\n",
    "* $(x - y)(x^2 + xy + y^2)$\n",
    "\n",
    "* $(x^3 + x^2y + xy^2) + (-x^2y) + (-xy^2) + (-y^3)$\n",
    "\n",
    "* $x^3 - y^3$\n",
    "\n",
    "\n",
    "  (v) $x^n - y^n = (x - y)(x^n-1 + x^n-2 + \\ldots + xy^n-2 + y^n-1)$\n",
    "  \n",
    "  \n",
    "  \n",
    "\n",
    "  (vi) $x^3 + y^3 = (x + y)(x^2 - xy + y^2)$\n"
   ]
  },
  {
   "cell_type": "markdown",
   "metadata": {},
   "source": [
    "#### 2. What is wrong with the following \"proof\"?\n",
    "\n",
    "In step 3 we factored out `y` correctly on the right side of the equation, but performed another factorization on the left side"
   ]
  },
  {
   "cell_type": "markdown",
   "metadata": {},
   "source": [
    "#### 3. Prove the following: \n",
    "\n",
    "(i) $\\frac{a}{b} = \\frac{ac}{bc}$, if $b, c \\neq 0$\n",
    "\n",
    "(ii) $\\frac{a}{b} + \\frac{c}{d} = \\frac{ad + bc}{bd}$, if $b, d \\neq 0$ \n",
    "\n",
    "(iii) $(ab)^-1 = a^-1 * b^-1$, if $a, b \\neq 0$\n",
    "\n",
    "(iv) $\\frac{a}{b} * \\frac{c}{d} = \\frac{ac}{db}$, if $b, d \\neq 0$ \n",
    "\n",
    "(v) $\\frac{a}{b} \\div \\frac{c}{d} = \\frac{ad}{bc}$, if $b, c, d \\neq 0$ \n",
    "\n",
    "(vi) If $b, d \\neq 0$, then $\\frac{a}{b} = \\frac{c}{d}$, iff $ad = bc$\n",
    "\n",
    "\n"
   ]
  },
  {
   "cell_type": "code",
   "execution_count": null,
   "metadata": {
    "collapsed": true
   },
   "outputs": [],
   "source": []
  },
  {
   "cell_type": "code",
   "execution_count": null,
   "metadata": {
    "collapsed": true
   },
   "outputs": [],
   "source": []
  }
 ],
 "metadata": {
  "anaconda-cloud": {},
  "kernelspec": {
   "display_name": "Python [conda root]",
   "language": "python",
   "name": "conda-root-py"
  },
  "language_info": {
   "codemirror_mode": {
    "name": "ipython",
    "version": 2
   },
   "file_extension": ".py",
   "mimetype": "text/x-python",
   "name": "python",
   "nbconvert_exporter": "python",
   "pygments_lexer": "ipython2",
   "version": "2.7.12"
  }
 },
 "nbformat": 4,
 "nbformat_minor": 1
}
