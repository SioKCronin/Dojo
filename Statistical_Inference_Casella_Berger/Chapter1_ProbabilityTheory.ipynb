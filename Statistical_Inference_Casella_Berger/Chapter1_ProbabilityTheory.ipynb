{
 "cells": [
  {
   "cell_type": "markdown",
   "metadata": {},
   "source": [
    "# CHAPTER 1: Probability Theory "
   ]
  },
  {
   "cell_type": "markdown",
   "metadata": {},
   "source": [
    "### Exercises\n",
    "\n",
    "#### Describe the sample space:\n",
    "(a) Toss a coin four times: *S = {Heads, Tails}* \n",
    "\n",
    "(b) Count the number of insect damaged leaves on a plant: *S = {damaged, undamaged}* \n",
    "\n",
    "(c) Measure the lifetime (in hours) of a particular brand of light bulb: *S = {A1, A2, ... Ai}, where i is the number of light bulbs measured* \n",
    "\n",
    "(d) Record the weights of 10-day-old rats: *S = {A1, A2, ... Ai}, where i is the number of rats measured* \n",
    "\n",
    "(e) Observe the proportion of defectives in a shipment of electronics: *S = {defects, non-defects}* \n",
    "\n",
    "#### Verify the following identities:\n",
    "\n",
    "(a) $A \\setminus B = A\\setminus(A\\cap B) = A \\cap B^c$\n",
    "\n",
    "(b) $B = (B \\cap A) \\cup (B \\cap A^c)$\n",
    "\n",
    "(c) $B \\setminus A = B \\cap A^c$\n",
    "\n",
    "(d) $A \\cup B = A \\cup (B \\cap A^c)$\n",
    "\n",
    "#### Proofs\n",
    "\n",
    "(a) $A \\cup B = B \\cup A$ and $A \\cap B = B \\cap A$  *(commutativity)*\n",
    "\n",
    "(b) $A \\cup (B \\cup C) = (A \\cup B) \\cup C$ and $A \\cap (B \\cap C) = (A \\cap B) \\cap C$ *(associativity)* \n",
    "\n",
    "(c) $(A \\cup B)^c = A^c \\cap B^c$ and $(A \\cap B)^c = A^c \\cup B^c$"
   ]
  }
 ],
 "metadata": {
  "anaconda-cloud": {},
  "kernelspec": {
   "display_name": "Python [conda root]",
   "language": "python",
   "name": "conda-root-py"
  },
  "language_info": {
   "codemirror_mode": {
    "name": "ipython",
    "version": 2
   },
   "file_extension": ".py",
   "mimetype": "text/x-python",
   "name": "python",
   "nbconvert_exporter": "python",
   "pygments_lexer": "ipython2",
   "version": "2.7.12"
  }
 },
 "nbformat": 4,
 "nbformat_minor": 1
}
