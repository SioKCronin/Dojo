{
 "cells": [
  {
   "cell_type": "markdown",
   "metadata": {},
   "source": [
    "# CHAPTER 1: Probability Theory "
   ]
  },
  {
   "cell_type": "markdown",
   "metadata": {},
   "source": [
    "### Exercises\n",
    "\n",
    "#### Describe the sample space:\n",
    "(a) Toss a coin four times: *S = {Heads, Tails}* \n",
    "\n",
    "(b) Count the number of insect damaged leaves on a plant: *S = {damaged, undamaged}* \n",
    "\n",
    "(c) Measure the lifetime (in hours) of a particular brand of light bulb: *S = {A1, A2, ... Ai}, where i is the number of light bulbs measured* \n",
    "\n",
    "(d) Record the weights of 10-day-old rats: *S = {A1, A2, ... Ai}, where i is the number of rats measured* \n",
    "\n",
    "(e) Observe the proportion of defectives in a shipment of electronics: *S = {defects, non-defects}* \n",
    "\n",
    "#### Verify the following identities:\n",
    "(a) "
   ]
  },
  {
   "cell_type": "code",
   "execution_count": null,
   "metadata": {
    "collapsed": true
   },
   "outputs": [],
   "source": []
  }
 ],
 "metadata": {
  "anaconda-cloud": {},
  "kernelspec": {
   "display_name": "Python [conda root]",
   "language": "python",
   "name": "conda-root-py"
  },
  "language_info": {
   "codemirror_mode": {
    "name": "ipython",
    "version": 2
   },
   "file_extension": ".py",
   "mimetype": "text/x-python",
   "name": "python",
   "nbconvert_exporter": "python",
   "pygments_lexer": "ipython2",
   "version": "2.7.12"
  }
 },
 "nbformat": 4,
 "nbformat_minor": 1
}
