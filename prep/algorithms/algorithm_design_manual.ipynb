{
 "cells": [
  {
   "cell_type": "markdown",
   "metadata": {},
   "source": [
    "# Algorithm Design Manual"
   ]
  },
  {
   "cell_type": "markdown",
   "metadata": {},
   "source": [
    "## 1. Intro to Algo Design"
   ]
  },
  {
   "cell_type": "markdown",
   "metadata": {},
   "source": [
    "I love the motivation for proof of your algorithm - to confirm that the generalizability of your selected instances (the one's you've tested) holds. \n",
    "\n",
    "We then shift into Robot Tour Optimization. Getting to different paths efficiently on the path could be done with a travelling salesman, which requires some stochastic solve. I looked around at how I'd love this, and came back to [neural combinatorial optimization with RL](https://arxiv.org/pdf/1611.09940.pdf). Let's see what the book says!\n",
    "\n",
    "A jolly romp through algorithms that don't quite cut it: nearest-neighbors, and the vertex one where you find the closests segment that doesn't terminate or close down other segments from happening (closest pair). \n",
    "\n",
    "Then we are presented with a scheduling challenge. How can that be solved. I suggest hybrid particle swarms, but was suggested something much more straightforward - optimal scheduling."
   ]
  },
  {
   "cell_type": "code",
   "execution_count": null,
   "metadata": {
    "collapsed": true
   },
   "outputs": [],
   "source": []
  }
 ],
 "metadata": {
  "kernelspec": {
   "display_name": "Python 3",
   "language": "python",
   "name": "python3"
  },
  "language_info": {
   "codemirror_mode": {
    "name": "ipython",
    "version": 3
   },
   "file_extension": ".py",
   "mimetype": "text/x-python",
   "name": "python",
   "nbconvert_exporter": "python",
   "pygments_lexer": "ipython3",
   "version": "3.5.2"
  }
 },
 "nbformat": 4,
 "nbformat_minor": 2
}
